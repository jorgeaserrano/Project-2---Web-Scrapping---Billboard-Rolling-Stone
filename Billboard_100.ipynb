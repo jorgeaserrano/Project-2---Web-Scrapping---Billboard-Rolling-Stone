{
 "cells": [
  {
   "cell_type": "code",
   "execution_count": 1,
   "metadata": {},
   "outputs": [],
   "source": [
    "from splinter import Browser\n",
    "from bs4 import BeautifulSoup\n",
    "from webdriver_manager.chrome import ChromeDriverManager\n",
    "import pandas as pd\n",
    "from sqlalchemy import create_engine\n",
    "import time"
   ]
  },
  {
   "cell_type": "markdown",
   "metadata": {},
   "source": [
    "# Extract"
   ]
  },
  {
   "cell_type": "code",
   "execution_count": 2,
   "metadata": {},
   "outputs": [
    {
     "name": "stderr",
     "output_type": "stream",
     "text": [
      "\n",
      "\n",
      "====== WebDriver manager ======\n",
      "Current google-chrome version is 93.0.4577\n",
      "Get LATEST driver version for 93.0.4577\n",
      "Driver [C:\\Users\\alfcu\\.wdm\\drivers\\chromedriver\\win32\\93.0.4577.63\\chromedriver.exe] found in cache\n"
     ]
    }
   ],
   "source": [
    "executable_path = {'executable_path': ChromeDriverManager().install()}\n",
    "browser = Browser('chrome', **executable_path, headless=False)"
   ]
  },
  {
   "cell_type": "code",
   "execution_count": 3,
   "metadata": {},
   "outputs": [],
   "source": [
    "# Reading billboard.com to extract top 100 list\n",
    "url = \"https://www.billboard.com/charts/hot-100\"\n",
    "browser.visit(url)"
   ]
  },
  {
   "cell_type": "code",
   "execution_count": 4,
   "metadata": {},
   "outputs": [],
   "source": [
    "html = browser.html\n",
    "soup = BeautifulSoup(html, \"lxml\")"
   ]
  },
  {
   "cell_type": "code",
   "execution_count": 5,
   "metadata": {},
   "outputs": [],
   "source": [
    "big_list = soup.find(\"ol\", {\"class\": \"chart-list__elements\"})\n",
    "billboard = big_list.find_all(\"li\", {\"class\": \"chart-list__element\"})"
   ]
  },
  {
   "cell_type": "code",
   "execution_count": 6,
   "metadata": {},
   "outputs": [],
   "source": [
    "# Building dataframe\n",
    "ranks = []\n",
    "songs = []\n",
    "artists = []\n",
    "\n",
    "for song in billboard: \n",
    "    rank= song.find(\"span\", {\"class\": \"chart-element__rank__number\"}).text\n",
    "    title = song.find(\"span\", {\"class\": \"chart-element__information__song\"}).text\n",
    "    artist = song.find(\"span\", {\"class\": \"chart-element__information__artist\"}).text\n",
    "    \n",
    "    ranks.append(rank)\n",
    "    songs.append(title)\n",
    "    artists.append(artist)\n",
    "    \n",
    "df1 = pd.DataFrame()\n",
    "df1[\"Rank\"] = ranks\n",
    "df1[\"Song\"] = songs\n",
    "df1[\"Artist\"] = artists"
   ]
  },
  {
   "cell_type": "code",
   "execution_count": 7,
   "metadata": {},
   "outputs": [],
   "source": [
    "# Reading apple.com to extract top 100 list\n",
    "url = \"https://music.apple.com/us/playlist/top-100-usa/pl.606afcbb70264d2eb2b51d8dbcfa6a12\"\n",
    "browser.visit(url)"
   ]
  },
  {
   "cell_type": "code",
   "execution_count": 8,
   "metadata": {},
   "outputs": [],
   "source": [
    "html = browser.html\n",
    "soup = BeautifulSoup(html, \"lxml\")"
   ]
  },
  {
   "cell_type": "code",
   "execution_count": 9,
   "metadata": {},
   "outputs": [],
   "source": [
    "big_list = soup.find(\"div\", {\"class\": \"songs-list\"})\n",
    "apple = big_list.find_all(\"div\", {\"class\": \"songs-list-row\"})"
   ]
  },
  {
   "cell_type": "code",
   "execution_count": 10,
   "metadata": {},
   "outputs": [],
   "source": [
    "# Building dataframe\n",
    "ranks = []\n",
    "songs = []\n",
    "artists = []\n",
    "\n",
    "for song in apple: \n",
    "    rank= song.find(\"div\", {\"class\": \"songs-list-row__rank\"}).text\n",
    "    title = song.find(\"div\", {\"class\": \"songs-list-row__song-name\"}).text\n",
    "    artist = song.find(\"a\", {\"class\": \"songs-list-row__link\"}).text\n",
    "    \n",
    "    ranks.append(rank)\n",
    "    songs.append(title)\n",
    "    artists.append(artist)\n",
    "    \n",
    "df2 = pd.DataFrame()\n",
    "df2[\"Rank\"] = ranks\n",
    "df2[\"Song\"] = songs\n",
    "df2[\"Artist\"] = artists"
   ]
  },
  {
   "cell_type": "code",
   "execution_count": 11,
   "metadata": {},
   "outputs": [],
   "source": [
    "# Reading rollingstone.com to extract top 100 list\n",
    "url = \"https://www.rollingstone.com/charts/songs/\"\n",
    "browser.visit(url)"
   ]
  },
  {
   "cell_type": "code",
   "execution_count": 12,
   "metadata": {},
   "outputs": [],
   "source": [
    "# Clicking 'Load more' button on the site to expand the list - initial view only 15 songs\n",
    "for i in range(6):\n",
    "     browser.find_by_text('Load more').first.click()\n",
    "     time.sleep(1)"
   ]
  },
  {
   "cell_type": "code",
   "execution_count": 13,
   "metadata": {},
   "outputs": [],
   "source": [
    "html = browser.html\n",
    "soup = BeautifulSoup(html, \"lxml\")"
   ]
  },
  {
   "cell_type": "code",
   "execution_count": 14,
   "metadata": {},
   "outputs": [],
   "source": [
    "big_list = soup.find(\"section\", {\"class\": \"l-section__charts\"})\n",
    "listings = soup.find_all(\"div\", {\"class\": \"c-chart__table--top\"})"
   ]
  },
  {
   "cell_type": "code",
   "execution_count": 15,
   "metadata": {},
   "outputs": [],
   "source": [
    "# Building dataframe\n",
    "ranks = []\n",
    "titles = []\n",
    "captions = []\n",
    "\n",
    "for listing in listings:\n",
    "    rank = listing.find(\"div\", {\"class\": \"c-chart__table--rank\"}).text\n",
    "    title = listing.find(\"div\", {\"class\": \"c-chart__table--title\"}).text\n",
    "    caption = listing.find(\"div\", {\"class\": \"c-chart__table--caption\"}).text\n",
    "    \n",
    "    ranks.append(rank)\n",
    "    titles.append(title)\n",
    "    captions.append(caption)\n",
    "    \n",
    "\n",
    "df3 = pd.DataFrame()\n",
    "df3[\"Rank\"] = ranks\n",
    "df3[\"Song\"] = titles\n",
    "df3[\"Artist\"] = captions"
   ]
  },
  {
   "cell_type": "markdown",
   "metadata": {},
   "source": [
    "# Transform"
   ]
  },
  {
   "cell_type": "code",
   "execution_count": 16,
   "metadata": {},
   "outputs": [],
   "source": [
    "# Adding website info to dataframe in source column\n",
    "df1[\"Source\"] = 'https://www.billboard.com'"
   ]
  },
  {
   "cell_type": "code",
   "execution_count": 17,
   "metadata": {},
   "outputs": [],
   "source": [
    "# Building source lookup table\n",
    "source = [{'website':'https://www.billboard.com'}]\n",
    "df_source = pd.DataFrame(source)"
   ]
  },
  {
   "cell_type": "code",
   "execution_count": 18,
   "metadata": {},
   "outputs": [],
   "source": [
    "# Adding website info to dataframe in source column\n",
    "df2[\"Source\"] = 'https://music.apple.com'"
   ]
  },
  {
   "cell_type": "code",
   "execution_count": 19,
   "metadata": {},
   "outputs": [],
   "source": [
    "# Adding second source to lookup table\n",
    "source2 = [{'website':'https://music.apple.com'}]\n",
    "df_source2 = pd.DataFrame(source2)\n",
    "df_source = df_source.append(df_source2, ignore_index = True)"
   ]
  },
  {
   "cell_type": "code",
   "execution_count": 20,
   "metadata": {},
   "outputs": [],
   "source": [
    "# Adding website info to dataframe in source column\n",
    "df3[\"Source\"] = \"https://www.rollingstone.com\""
   ]
  },
  {
   "cell_type": "code",
   "execution_count": 21,
   "metadata": {},
   "outputs": [],
   "source": [
    "# Adding third source to lookup table\n",
    "source3 = [{'website':'https://www.rollingstone.com'}]\n",
    "df_source3 = pd.DataFrame(source3)\n",
    "df_source = df_source.append(df_source3, ignore_index = True)"
   ]
  },
  {
   "cell_type": "code",
   "execution_count": 22,
   "metadata": {},
   "outputs": [],
   "source": [
    "# Three top 100 lists combined together using concat to form a dataframe of 300 rows\n",
    "df_final = pd.concat([df1, df2, df3], ignore_index = True)"
   ]
  },
  {
   "cell_type": "code",
   "execution_count": 23,
   "metadata": {},
   "outputs": [],
   "source": [
    "# Changing column name to lowercase so artist lookup table can be accepted during the load process\n",
    "df_artist = pd.DataFrame(df_final[\"Artist\"].unique())\n",
    "df_artist.rename(columns = {0:\"artist\"}, inplace = True)"
   ]
  },
  {
   "cell_type": "markdown",
   "metadata": {},
   "source": [
    "# Load"
   ]
  },
  {
   "cell_type": "code",
   "execution_count": 24,
   "metadata": {},
   "outputs": [],
   "source": [
    "# Connecting to cloud database\n",
    "rds_connection_string = \"postgres:password@34.71.136.159:5432/postgres\"\n",
    "engine = create_engine(f'postgresql://{rds_connection_string}')"
   ]
  },
  {
   "cell_type": "code",
   "execution_count": 25,
   "metadata": {},
   "outputs": [
    {
     "name": "stderr",
     "output_type": "stream",
     "text": [
      "<ipython-input-25-d72bc75a6b62>:1: SADeprecationWarning: The Engine.table_names() method is deprecated and will be removed in a future release.  Please refer to Inspector.get_table_names(). (deprecated since: 1.4)\n",
      "  engine.table_names()\n"
     ]
    },
    {
     "data": {
      "text/plain": [
       "['artist', 'main', 'source']"
      ]
     },
     "execution_count": 25,
     "metadata": {},
     "output_type": "execute_result"
    }
   ],
   "source": [
    "engine.table_names()"
   ]
  },
  {
   "cell_type": "code",
   "execution_count": 26,
   "metadata": {},
   "outputs": [],
   "source": [
    "# Loading artist lookup table to database\n",
    "df_artist.to_sql(name='artist', con=engine, if_exists='append', index=False, method=\"multi\")"
   ]
  },
  {
   "cell_type": "code",
   "execution_count": 27,
   "metadata": {},
   "outputs": [],
   "source": [
    "# Creating dataframe based on lookup table in database\n",
    "df_artist_sql = pd.read_sql_query('select artist_id, artist from artist', con=engine)"
   ]
  },
  {
   "cell_type": "code",
   "execution_count": 28,
   "metadata": {},
   "outputs": [],
   "source": [
    "# Loading source lookup table to database\n",
    "df_source.to_sql(name='source', con=engine, if_exists='append', index=False, method=\"multi\")"
   ]
  },
  {
   "cell_type": "code",
   "execution_count": 29,
   "metadata": {},
   "outputs": [],
   "source": [
    "# Creating dataframe based on lookup table in database\n",
    "df_source_sql = pd.read_sql_query('select source_id, website from source', con=engine)"
   ]
  },
  {
   "cell_type": "code",
   "execution_count": 30,
   "metadata": {},
   "outputs": [],
   "source": [
    "# Merging master dataframe with artist lookup to assign artist IDs\n",
    "df_final2 = df_final.merge(df_artist_sql, left_on='Artist', right_on='artist', how='left')\n",
    "df_final2.drop([\"Artist\", \"artist\"], axis=1, inplace=True)"
   ]
  },
  {
   "cell_type": "code",
   "execution_count": 31,
   "metadata": {},
   "outputs": [],
   "source": [
    "# Merging updated master dataframe with source lookup to assign source IDs\n",
    "df_final3 = df_final2.merge(df_source_sql, left_on='Source', right_on='website', how='left')\n",
    "df_final3.drop([\"Source\", \"website\"], axis=1, inplace=True)"
   ]
  },
  {
   "cell_type": "code",
   "execution_count": 32,
   "metadata": {},
   "outputs": [],
   "source": [
    "# Setting column names to lowercase for master table to be accepted\n",
    "df_final3.columns = df_final3.columns.str.lower()"
   ]
  },
  {
   "cell_type": "code",
   "execution_count": 33,
   "metadata": {},
   "outputs": [],
   "source": [
    "# Loading master table to database\n",
    "df_final3.to_sql(name='main', con=engine, if_exists='append', index=False, method=\"multi\")"
   ]
  },
  {
   "cell_type": "code",
   "execution_count": 34,
   "metadata": {},
   "outputs": [
    {
     "data": {
      "text/html": [
       "<div>\n",
       "<style scoped>\n",
       "    .dataframe tbody tr th:only-of-type {\n",
       "        vertical-align: middle;\n",
       "    }\n",
       "\n",
       "    .dataframe tbody tr th {\n",
       "        vertical-align: top;\n",
       "    }\n",
       "\n",
       "    .dataframe thead th {\n",
       "        text-align: right;\n",
       "    }\n",
       "</style>\n",
       "<table border=\"1\" class=\"dataframe\">\n",
       "  <thead>\n",
       "    <tr style=\"text-align: right;\">\n",
       "      <th></th>\n",
       "      <th>id</th>\n",
       "      <th>rank</th>\n",
       "      <th>song</th>\n",
       "      <th>artist_id</th>\n",
       "      <th>source_id</th>\n",
       "      <th>last_updated</th>\n",
       "    </tr>\n",
       "  </thead>\n",
       "  <tbody>\n",
       "    <tr>\n",
       "      <th>0</th>\n",
       "      <td>1</td>\n",
       "      <td>1</td>\n",
       "      <td>Way 2 Sexy</td>\n",
       "      <td>1</td>\n",
       "      <td>1</td>\n",
       "      <td>2021-09-14 19:08:54.360802</td>\n",
       "    </tr>\n",
       "    <tr>\n",
       "      <th>1</th>\n",
       "      <td>2</td>\n",
       "      <td>2</td>\n",
       "      <td>Girls Want Girls</td>\n",
       "      <td>2</td>\n",
       "      <td>1</td>\n",
       "      <td>2021-09-14 19:08:54.360802</td>\n",
       "    </tr>\n",
       "    <tr>\n",
       "      <th>2</th>\n",
       "      <td>3</td>\n",
       "      <td>3</td>\n",
       "      <td>Fair Trade</td>\n",
       "      <td>3</td>\n",
       "      <td>1</td>\n",
       "      <td>2021-09-14 19:08:54.360802</td>\n",
       "    </tr>\n",
       "    <tr>\n",
       "      <th>3</th>\n",
       "      <td>4</td>\n",
       "      <td>4</td>\n",
       "      <td>Champagne Poetry</td>\n",
       "      <td>4</td>\n",
       "      <td>1</td>\n",
       "      <td>2021-09-14 19:08:54.360802</td>\n",
       "    </tr>\n",
       "    <tr>\n",
       "      <th>4</th>\n",
       "      <td>5</td>\n",
       "      <td>5</td>\n",
       "      <td>Knife Talk</td>\n",
       "      <td>5</td>\n",
       "      <td>1</td>\n",
       "      <td>2021-09-14 19:08:54.360802</td>\n",
       "    </tr>\n",
       "  </tbody>\n",
       "</table>\n",
       "</div>"
      ],
      "text/plain": [
       "   id  rank              song  artist_id  source_id               last_updated\n",
       "0   1     1        Way 2 Sexy          1          1 2021-09-14 19:08:54.360802\n",
       "1   2     2  Girls Want Girls          2          1 2021-09-14 19:08:54.360802\n",
       "2   3     3        Fair Trade          3          1 2021-09-14 19:08:54.360802\n",
       "3   4     4  Champagne Poetry          4          1 2021-09-14 19:08:54.360802\n",
       "4   5     5        Knife Talk          5          1 2021-09-14 19:08:54.360802"
      ]
     },
     "execution_count": 34,
     "metadata": {},
     "output_type": "execute_result"
    }
   ],
   "source": [
    "# View of the master table in the database\n",
    "pd.read_sql_query('select * from main', con=engine).head()"
   ]
  },
  {
   "cell_type": "code",
   "execution_count": null,
   "metadata": {},
   "outputs": [],
   "source": []
  }
 ],
 "metadata": {
  "kernelspec": {
   "display_name": "Python 3",
   "language": "python",
   "name": "python3"
  },
  "language_info": {
   "codemirror_mode": {
    "name": "ipython",
    "version": 3
   },
   "file_extension": ".py",
   "mimetype": "text/x-python",
   "name": "python",
   "nbconvert_exporter": "python",
   "pygments_lexer": "ipython3",
   "version": "3.8.8"
  },
  "varInspector": {
   "cols": {
    "lenName": 16,
    "lenType": 16,
    "lenVar": 40
   },
   "kernels_config": {
    "python": {
     "delete_cmd_postfix": "",
     "delete_cmd_prefix": "del ",
     "library": "var_list.py",
     "varRefreshCmd": "print(var_dic_list())"
    },
    "r": {
     "delete_cmd_postfix": ") ",
     "delete_cmd_prefix": "rm(",
     "library": "var_list.r",
     "varRefreshCmd": "cat(var_dic_list()) "
    }
   },
   "types_to_exclude": [
    "module",
    "function",
    "builtin_function_or_method",
    "instance",
    "_Feature"
   ],
   "window_display": false
  }
 },
 "nbformat": 4,
 "nbformat_minor": 2
}
